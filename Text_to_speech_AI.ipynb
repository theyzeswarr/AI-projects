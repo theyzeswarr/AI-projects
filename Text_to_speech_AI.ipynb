{
  "nbformat": 4,
  "nbformat_minor": 0,
  "metadata": {
    "colab": {
      "provenance": [],
      "authorship_tag": "ABX9TyOtI2Xc7+dCotDvHIh6SG3Q",
      "include_colab_link": true
    },
    "kernelspec": {
      "name": "python3",
      "display_name": "Python 3"
    },
    "language_info": {
      "name": "python"
    }
  },
  "cells": [
    {
      "cell_type": "markdown",
      "metadata": {
        "id": "view-in-github",
        "colab_type": "text"
      },
      "source": [
        "<a href=\"https://colab.research.google.com/github/theyzeswarr/AI-projects/blob/main/Text_to_speech_AI.ipynb\" target=\"_parent\"><img src=\"https://colab.research.google.com/assets/colab-badge.svg\" alt=\"Open In Colab\"/></a>"
      ]
    },
    {
      "cell_type": "code",
      "execution_count": 6,
      "metadata": {
        "colab": {
          "base_uri": "https://localhost:8080/"
        },
        "id": "kpLvt5f2O3c9",
        "outputId": "cf352278-bb52-4820-cca5-fc6af9815eda"
      },
      "outputs": [
        {
          "output_type": "stream",
          "name": "stdout",
          "text": [
            "Looking in indexes: https://pypi.org/simple, https://us-python.pkg.dev/colab-wheels/public/simple/\n",
            "Requirement already satisfied: gTTS in /usr/local/lib/python3.7/dist-packages (2.2.4)\n",
            "Requirement already satisfied: click in /usr/local/lib/python3.7/dist-packages (from gTTS) (7.1.2)\n",
            "Requirement already satisfied: requests in /usr/local/lib/python3.7/dist-packages (from gTTS) (2.23.0)\n",
            "Requirement already satisfied: six in /usr/local/lib/python3.7/dist-packages (from gTTS) (1.15.0)\n",
            "Requirement already satisfied: certifi>=2017.4.17 in /usr/local/lib/python3.7/dist-packages (from requests->gTTS) (2022.6.15)\n",
            "Requirement already satisfied: urllib3!=1.25.0,!=1.25.1,<1.26,>=1.21.1 in /usr/local/lib/python3.7/dist-packages (from requests->gTTS) (1.24.3)\n",
            "Requirement already satisfied: chardet<4,>=3.0.2 in /usr/local/lib/python3.7/dist-packages (from requests->gTTS) (3.0.4)\n",
            "Requirement already satisfied: idna<3,>=2.5 in /usr/local/lib/python3.7/dist-packages (from requests->gTTS) (2.10)\n"
          ]
        }
      ],
      "source": [
        "!pip install gTTS"
      ]
    },
    {
      "cell_type": "code",
      "source": [
        "from gtts import gTTS\n",
        "from IPython.display import Audio\n",
        "tts = gTTS('hello  Python')\n",
        "tts.save('1.wav')\n",
        "sound_file = '1.wav'\n",
        "Audio(sound_file, autoplay=True)"
      ],
      "metadata": {
        "colab": {
          "base_uri": "https://localhost:8080/",
          "height": 75
        },
        "id": "x10Dmvi8O7os",
        "outputId": "a56a8f69-e667-4907-bb9d-2341d9b09e69"
      },
      "execution_count": 8,
      "outputs": [
        {
          "output_type": "execute_result",
          "data": {
            "text/plain": [
              "<IPython.lib.display.Audio object>"
            ],
            "text/html": [
              "\n",
              "                <audio  controls=\"controls\" autoplay=\"autoplay\">\n",
              "                    <source src=\"data:audio/x-wav;base64,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\" type=\"audio/x-wav\" />\n",
              "                    Your browser does not support the audio element.\n",
              "                </audio>\n",
              "              "
            ]
          },
          "metadata": {},
          "execution_count": 8
        }
      ]
    },
    {
      "cell_type": "code",
      "source": [],
      "metadata": {
        "id": "4SmR5EsqO_tI"
      },
      "execution_count": 4,
      "outputs": []
    },
    {
      "cell_type": "code",
      "source": [],
      "metadata": {
        "id": "RuB1nfWSPAjN"
      },
      "execution_count": 5,
      "outputs": []
    },
    {
      "cell_type": "code",
      "source": [],
      "metadata": {
        "id": "KJ5FGoU7PD10"
      },
      "execution_count": null,
      "outputs": []
    }
  ]
}